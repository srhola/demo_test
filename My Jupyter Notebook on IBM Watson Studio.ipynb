{
  "metadata": {
    "kernelspec": {
      "name": "python",
      "display_name": "Pyolite",
      "language": "python"
    },
    "language_info": {
      "codemirror_mode": {
        "name": "python",
        "version": 3
      },
      "file_extension": ".py",
      "mimetype": "text/x-python",
      "name": "python",
      "nbconvert_exporter": "python",
      "pygments_lexer": "ipython3",
      "version": "3.8"
    },
    "toc-showmarkdowntxt": true,
    "toc-autonumbering": false,
    "toc-showcode": true
  },
  "nbformat_minor": 4,
  "nbformat": 4,
  "cells": [
    {
      "cell_type": "markdown",
      "source": "# My Jupyter Notebook on IBM Watson Studio",
      "metadata": {}
    },
    {
      "cell_type": "markdown",
      "source": "**Fabián David Osorio Urra**.\n <br> Aerospace Engineer.",
      "metadata": {}
    },
    {
      "cell_type": "markdown",
      "source": "_I am interested in data science because data is everywhere, and data often contains valuable information for the projects in general_.",
      "metadata": {}
    },
    {
      "cell_type": "markdown",
      "source": "### The following code obtains the transpose of a matrix, using the python library numpy. ",
      "metadata": {}
    },
    {
      "cell_type": "code",
      "source": "import numpy as np\nx=np.array([[1, 2], [3, 4]])\ny=x.transpose()\nprint('Original matrix:') \nprint(x)\nprint('Transpose matrix:')\nprint(y)",
      "metadata": {
        "trusted": true
      },
      "execution_count": 14,
      "outputs": [
        {
          "name": "stdout",
          "text": "Original matrix:\n[[1 2]\n [3 4]]\nTranspose matrix:\n[[1 3]\n [2 4]]\n",
          "output_type": "stream"
        }
      ]
    },
    {
      "cell_type": "markdown",
      "source": "\n|This||is||sparta|\n|----||--||------|\n|time||to||twirl|\n|good||bye||JoJo|\n1. number 1\n2. number 2 \n3. number 10\n4. number 3.1415\n5. number A\n\n\n<a href=\"https://github.com/srhola/demo_test\">My GitHub</a> ",
      "metadata": {}
    }
  ]
}